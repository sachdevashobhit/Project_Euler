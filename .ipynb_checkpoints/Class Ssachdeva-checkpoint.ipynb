{
 "cells": [
  {
   "cell_type": "code",
   "execution_count": null,
   "metadata": {
    "collapsed": true
   },
   "outputs": [],
   "source": [
    "def isprime(n):\n",
    "    \"\"\"Returns True if n is prime.\"\"\"\n",
    "    if n == 2:\n",
    "        return True\n",
    "    if n == 3:\n",
    "        return True\n",
    "    if n % 2 == 0:\n",
    "        return False\n",
    "    if n % 3 == 0:\n",
    "        return False\n",
    "\n",
    "    i = 5\n",
    "    w = 2\n",
    "\n",
    "    while i * i <= n:\n",
    "        if n % i == 0:\n",
    "            return False\n",
    "\n",
    "        i += w\n",
    "        w = 6 - w\n",
    "\n",
    "    return True"
   ]
  },
  {
   "cell_type": "code",
   "execution_count": 14,
   "metadata": {
    "collapsed": true
   },
   "outputs": [],
   "source": [
    "import math\n",
    "\n",
    "def number_upto_Prime(n=1000):\n",
    "    lst = range(0, n + 1)\n",
    "    lst[1] = 0\n",
    "    thresh = int(math.sqrt(n)) + 1\n",
    "    for i in xrange(2, thresh):\n",
    "        if lst[i] == 0:\n",
    "            continue\n",
    "        for j in xrange(i * 2, len(lst), i):\n",
    "            if lst[j] != 0:\n",
    "                lst[j] = 0\n",
    "    return [i for i in lst if i != 0]"
   ]
  },
  {
   "cell_type": "code",
   "execution_count": 19,
   "metadata": {
    "collapsed": false
   },
   "outputs": [
    {
     "data": {
      "text/plain": [
       "[3,\n",
       " 5,\n",
       " 7,\n",
       " 11,\n",
       " 13,\n",
       " 17,\n",
       " 19,\n",
       " 23,\n",
       " 29,\n",
       " 31,\n",
       " 37,\n",
       " 41,\n",
       " 43,\n",
       " 47,\n",
       " 53,\n",
       " 59,\n",
       " 61,\n",
       " 67,\n",
       " 71,\n",
       " 73,\n",
       " 79,\n",
       " 83,\n",
       " 89,\n",
       " 97]"
      ]
     },
     "execution_count": 19,
     "metadata": {},
     "output_type": "execute_result"
    }
   ],
   "source": [
    "k = number_upto_Prime(100)\n",
    "del k[0]\n",
    "k"
   ]
  },
  {
   "cell_type": "code",
   "execution_count": null,
   "metadata": {
    "collapsed": true
   },
   "outputs": [],
   "source": []
  }
 ],
 "metadata": {
  "kernelspec": {
   "display_name": "Python 2",
   "language": "python",
   "name": "python2"
  },
  "language_info": {
   "codemirror_mode": {
    "name": "ipython",
    "version": 2
   },
   "file_extension": ".py",
   "mimetype": "text/x-python",
   "name": "python",
   "nbconvert_exporter": "python",
   "pygments_lexer": "ipython2",
   "version": "2.7.12"
  }
 },
 "nbformat": 4,
 "nbformat_minor": 0
}
