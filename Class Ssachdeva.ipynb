{
 "cells": [
  {
   "cell_type": "code",
   "execution_count": null,
   "metadata": {
    "collapsed": true
   },
   "outputs": [],
   "source": [
    "import math"
   ]
  },
  {
   "cell_type": "code",
   "execution_count": null,
   "metadata": {
    "collapsed": true
   },
   "outputs": [],
   "source": [
    "def isprime(n):\n",
    "    \"\"\"Returns True if n is prime.\"\"\"\n",
    "    if n == 2:\n",
    "        return True\n",
    "    if n == 3:\n",
    "        return True\n",
    "    if n % 2 == 0:\n",
    "        return False\n",
    "    if n % 3 == 0:\n",
    "        return False\n",
    "    i = 5\n",
    "    w = 2\n",
    "    while i * i <= n:\n",
    "        if n % i == 0:\n",
    "            return False\n",
    "        i += w\n",
    "        w = 6 - w\n",
    "    return True"
   ]
  },
  {
   "cell_type": "code",
   "execution_count": 14,
   "metadata": {
    "collapsed": true
   },
   "outputs": [],
   "source": [
    "def number_upto_Prime(n=1000):\n",
    "    lst = range(0, n + 1)\n",
    "    lst[1] = 0\n",
    "    thresh = int(math.sqrt(n)) + 1\n",
    "    for i in xrange(2, thresh):\n",
    "        if lst[i] == 0:\n",
    "            continue\n",
    "        for j in xrange(i * 2, len(lst), i):\n",
    "            if lst[j] != 0:\n",
    "                lst[j] = 0\n",
    "    return [i for i in lst if i != 0]"
   ]
  },
  {
   "cell_type": "code",
   "execution_count": 19,
   "metadata": {
    "collapsed": false
   },
   "outputs": [
    {
     "data": {
      "text/plain": [
       "[3,\n",
       " 5,\n",
       " 7,\n",
       " 11,\n",
       " 13,\n",
       " 17,\n",
       " 19,\n",
       " 23,\n",
       " 29,\n",
       " 31,\n",
       " 37,\n",
       " 41,\n",
       " 43,\n",
       " 47,\n",
       " 53,\n",
       " 59,\n",
       " 61,\n",
       " 67,\n",
       " 71,\n",
       " 73,\n",
       " 79,\n",
       " 83,\n",
       " 89,\n",
       " 97]"
      ]
     },
     "execution_count": 19,
     "metadata": {},
     "output_type": "execute_result"
    }
   ],
   "source": [
    "def largest_factor(n):    \n",
    "    max_val_1 = 0\n",
    "    max_val_2 = 0\n",
    "    max_val_3 = 0\n",
    "    max_val_5 = 0\n",
    "    max_val_4 = 1\n",
    "    if isPrime(n):\n",
    "        max_val_1 = n\n",
    "    else:\n",
    "        while n%2== 0:\n",
    "            n = n/2\n",
    "        else:\n",
    "            if n == 1:\n",
    "                max_val_2 = 2\n",
    "            elif isPrime(n):\n",
    "                max_val_4 = n\n",
    "            else:\n",
    "                for i in range (3, int(math.sqrt(n))+1, 2):\n",
    "                    while n%i == 0:\n",
    "                        n = n/i\n",
    "                        max_val_5 = i\n",
    "                        if isPrime(n):\n",
    "                            max_val_3 = n\n",
    "    return int(max(max_val_1, max_val_2, max_val_3, max_val_4, max_val_5)) "
   ]
  },
  {
   "cell_type": "code",
   "execution_count": null,
   "metadata": {
    "collapsed": true
   },
   "outputs": [],
   "source": [
    "def triangular_number(n):\n",
    "    number = n*(n+1)/2\n",
    "    return number"
   ]
  },
  {
   "cell_type": "code",
   "execution_count": null,
   "metadata": {
    "collapsed": true
   },
   "outputs": [],
   "source": [
    "def Collatz_next(n):\n",
    "    count_chain = 1\n",
    "    while n!=1:\n",
    "        if n%2 == 0:\n",
    "            n = n/2\n",
    "            count_chain += 1\n",
    "        else:\n",
    "            n = 3*n + 1\n",
    "            count_chain += 1\n",
    "    return n, count_chain"
   ]
  },
  {
   "cell_type": "code",
   "execution_count": null,
   "metadata": {
    "collapsed": true
   },
   "outputs": [],
   "source": [
    "def sum_digits(n):\n",
    "    s = 0\n",
    "    while n:\n",
    "        s += n % 10\n",
    "        n //= 10\n",
    "    return s"
   ]
  },
  {
   "cell_type": "code",
   "execution_count": null,
   "metadata": {
    "collapsed": true
   },
   "outputs": [],
   "source": [
    "def factorial(n):\n",
    "    if n == 0 or n == 1:\n",
    "        answer = 1\n",
    "    else:\n",
    "        answer = 1\n",
    "        for i in range(1,n+1):\n",
    "            answer = answer*i\n",
    "    return answer"
   ]
  },
  {
   "cell_type": "code",
   "execution_count": null,
   "metadata": {
    "collapsed": true
   },
   "outputs": [],
   "source": [
    "def permute(list_elements):\n",
    "    if len(list_elements)<=1:\n",
    "        yield list_elements\n",
    "    else:\n",
    "        for perm in permute(list_elements[1:]):\n",
    "            for i in range(len(list_elements)):\n",
    "                yield perm[:i] + list_elements[0:1] + perm[i:]"
   ]
  },
  {
   "cell_type": "code",
   "execution_count": null,
   "metadata": {
    "collapsed": true
   },
   "outputs": [],
   "source": [
    "def sum_kth(n, k):\n",
    "    sum_kth = 0\n",
    "    num_str = str(n)\n",
    "    for i in num_str:\n",
    "        sum_kth += pow(int(i),k)\n",
    "    return sum_kth"
   ]
  },
  {
   "cell_type": "code",
   "execution_count": null,
   "metadata": {
    "collapsed": true
   },
   "outputs": [],
   "source": [
    "def is_pandigital(x, n):\n",
    "    num_str = str(x)\n",
    "    pan_digit = ''.join(str(i) for i in range(1,1+n))\n",
    "    s = set(pan_digit)\n",
    "    temp3 = [x for x in num_str if x not in s]\n",
    "    temp4 = [x for x in s if x not in num_str]\n",
    "    if len(num_str) == n:\n",
    "        if temp3 == temp4:\n",
    "            return True\n",
    "    else:\n",
    "        return False"
   ]
  },
  {
   "cell_type": "code",
   "execution_count": null,
   "metadata": {
    "collapsed": true
   },
   "outputs": [],
   "source": [
    "def is_permuted(x, y):\n",
    "    num_str_x = str(x)\n",
    "    num_str_y = str(y)\n",
    "    temp3 = [x for x in num_str_x if x not in num_str_y]\n",
    "    temp4 = [x for x in num_str_y if x not in num_str_x]\n",
    "    if len(num_str_x) == len(num_str_y):\n",
    "        if temp3 == temp4:\n",
    "            return True\n",
    "    else:\n",
    "        return False"
   ]
  },
  {
   "cell_type": "code",
   "execution_count": null,
   "metadata": {
    "collapsed": true
   },
   "outputs": [],
   "source": [
    "def sum_digits(n):\n",
    "    s = str(n)\n",
    "    sum = 0\n",
    "    for i in s:\n",
    "        sum += int(i)\n",
    "    return sum "
   ]
  },
  {
   "cell_type": "code",
   "execution_count": null,
   "metadata": {
    "collapsed": true
   },
   "outputs": [],
   "source": []
  }
 ],
 "metadata": {
  "kernelspec": {
   "display_name": "Python 2",
   "language": "python",
   "name": "python2"
  },
  "language_info": {
   "codemirror_mode": {
    "name": "ipython",
    "version": 2
   },
   "file_extension": ".py",
   "mimetype": "text/x-python",
   "name": "python",
   "nbconvert_exporter": "python",
   "pygments_lexer": "ipython2",
   "version": "2.7.12"
  }
 },
 "nbformat": 4,
 "nbformat_minor": 0
}
